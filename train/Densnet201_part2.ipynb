{
 "cells": [
  {
   "cell_type": "code",
   "execution_count": null,
   "metadata": {
    "colab": {
     "base_uri": "https://localhost:8080/",
     "height": 255
    },
    "colab_type": "code",
    "id": "29mtcgJRYCxN",
    "outputId": "3a366a45-b747-409e-e15d-42f51ceefeac"
   },
   "outputs": [],
   "source": [
    "!pip install gdown"
   ]
  },
  {
   "cell_type": "code",
   "execution_count": null,
   "metadata": {
    "colab": {
     "base_uri": "https://localhost:8080/",
     "height": 102
    },
    "colab_type": "code",
    "id": "HEOpusL0X8lB",
    "outputId": "88e347ce-bcb5-470a-af02-5e9e98028873"
   },
   "outputs": [],
   "source": [
    "import gdown\n",
    "\n",
    "url = 'https://drive.google.com/uc?id=1ltHXdJBlYNZXNTugf5K4XtsDHsU_Rq5d'\n",
    "output = 'data.zip'\n",
    "gdown.download(url, output, quiet=False)"
   ]
  },
  {
   "cell_type": "code",
   "execution_count": null,
   "metadata": {
    "colab": {
     "base_uri": "https://localhost:8080/",
     "height": 34
    },
    "colab_type": "code",
    "id": "seaQ3bOJmvNi",
    "outputId": "6abb1ac5-d753-414c-fb95-aaa38f5da157"
   },
   "outputs": [],
   "source": [
    "gdown.download('https://drive.google.com/uc?id=1pXGQ5VPnZG-qshA_WIIftrLv9xuLlTaX', 'test1.csv', quiet=True)\n",
    "gdown.download('https://drive.google.com/uc?id=1Z3ICr_BhxlA0BuxGlIkwl1igoR-XExt9', 'test2.csv', quiet=True)\n",
    "gdown.download('https://drive.google.com/uc?id=1mPdgZ3p_poe3VQDCwFQMFn_A1pGEHrO7', 'test3.csv', quiet=True)\n",
    "gdown.download('https://drive.google.com/uc?id=1s7DytlooFsW9bxLgg7FLxlTS_D4YVT2j', 'test4.csv', quiet=True)\n",
    "gdown.download('https://drive.google.com/uc?id=1U4xTkH3RvJMlSmmOEaeEkHTCscHwP-KO', 'test5.csv', quiet=True)"
   ]
  },
  {
   "cell_type": "code",
   "execution_count": null,
   "metadata": {
    "colab": {},
    "colab_type": "code",
    "id": "4CAExzIfiXr7"
   },
   "outputs": [],
   "source": [
    "!unzip -qq data.zip"
   ]
  },
  {
   "cell_type": "code",
   "execution_count": null,
   "metadata": {
    "colab": {
     "base_uri": "https://localhost:8080/",
     "height": 34
    },
    "colab_type": "code",
    "id": "GIyJi4jbxoK2",
    "outputId": "bc45e2b4-41d2-46f2-df7c-37e05dbe851d"
   },
   "outputs": [],
   "source": [
    "from skimage.io import imread, imshow, imsave\n",
    "from skimage.transform import resize, rotate\n",
    "import matplotlib.pyplot as plt\n",
    "import numpy as np\n",
    "import os\n",
    "from __future__ import print_function\n",
    "from keras.datasets import cifar10\n",
    "from keras.preprocessing.image import ImageDataGenerator\n",
    "from keras.utils import np_utils\n",
    "from keras.callbacks import ReduceLROnPlateau, CSVLogger, EarlyStopping\n",
    "import random\n",
    "from sklearn.model_selection import train_test_split\n",
    "import glob\n",
    "import pandas as pd\n",
    "from sklearn.model_selection import StratifiedKFold\n",
    "import shutil"
   ]
  },
  {
   "cell_type": "code",
   "execution_count": null,
   "metadata": {
    "colab": {},
    "colab_type": "code",
    "id": "KPfd_htTxoK8"
   },
   "outputs": [],
   "source": [
    "path_train = 'data/IDRND_FASDB_train/'\n",
    "path_val = 'data/IDRND_FASDB_val/'\n",
    "path_test = 'data/test/'\n",
    "BATCH_SIZE = 8\n",
    "img_rows = 224\n",
    "img_cols = 224\n",
    "nb_classes = 2"
   ]
  },
  {
   "cell_type": "code",
   "execution_count": null,
   "metadata": {
    "colab": {
     "base_uri": "https://localhost:8080/",
     "height": 17102
    },
    "colab_type": "code",
    "id": "kS_clZZVV8gf",
    "outputId": "52c7a581-97c3-4c85-9f03-523f7c711568"
   },
   "outputs": [],
   "source": [
    "!mv  -v ./data/IDRND_FASDB_val/real/* ./data/IDRND_FASDB_train/real/\n",
    "!mv  -v ./data/IDRND_FASDB_val/spoof/* ./data/IDRND_FASDB_train/spoof/"
   ]
  },
  {
   "cell_type": "code",
   "execution_count": null,
   "metadata": {
    "colab": {},
    "colab_type": "code",
    "id": "GOsVhZr_xoLA"
   },
   "outputs": [],
   "source": [
    "train_real_filelist = glob.glob(os.path.join(path_train, 'real/*.png'))\n",
    "train_spoof_filelist = glob.glob(os.path.join(path_train, 'spoof/*.png'))\n",
    "train_filelist = train_real_filelist + train_spoof_filelist\n",
    "train_labels = [0] * len(train_real_filelist) + [1] * len(train_spoof_filelist)\n",
    "train = pd.DataFrame()\n",
    "train['path'] = train_filelist\n",
    "train['label'] = train_labels\n",
    "\n",
    "# val_real_filelist = glob.glob(os.path.join(path_val, 'real/*.png'))\n",
    "# val_spoof_filelist = glob.glob(os.path.join(path_val, 'spoof/*.png'))\n",
    "# val_filelist = val_real_filelist + val_spoof_filelist\n",
    "# val_labels = [0] * len(val_real_filelist) + [1] * len(val_spoof_filelist)\n",
    "# val = pd.DataFrame()\n",
    "# val['path'] = val_filelist\n",
    "# val['label'] = val_labels\n",
    "\n",
    "test_filelist = glob.glob(os.path.join(path_test, '*.png'))\n",
    "test = pd.DataFrame()\n",
    "test['path'] = test_filelist"
   ]
  },
  {
   "cell_type": "code",
   "execution_count": null,
   "metadata": {
    "colab": {
     "base_uri": "https://localhost:8080/",
     "height": 34
    },
    "colab_type": "code",
    "id": "5-e38OK0c14V",
    "outputId": "1c598bd4-4762-47c4-d3f2-9842ab3284b0"
   },
   "outputs": [],
   "source": [
    "train.shape"
   ]
  },
  {
   "cell_type": "code",
   "execution_count": null,
   "metadata": {
    "colab": {},
    "colab_type": "code",
    "id": "7pFb5UNch25j"
   },
   "outputs": [],
   "source": [
    "# skf = StratifiedKFold(n_splits=5, shuffle=True, random_state=17)\n",
    "# X_train_cv = skf.split(train['path'].values, train['label'].values)\n",
    "\n",
    "# index_train_dict = {}\n",
    "# index_test_dict = {}\n",
    "# for i in range(5):\n",
    "#   ind = next(X_train_cv)\n",
    "#   index_train_dict['split_{}'.format(i)] = ind[0]\n",
    "#   index_test_dict['split_{}'.format(i)] = ind[1]\n",
    "\n",
    "# train['path'][index_test_dict['split_0']].to_csv('test1.csv')\n",
    "# train['path'][index_test_dict['split_1']].to_csv('test2.csv')\n",
    "# train['path'][index_test_dict['split_2']].to_csv('test3.csv')\n",
    "# train['path'][index_test_dict['split_3']].to_csv('test4.csv')\n",
    "# train['path'][index_test_dict['split_4']].to_csv('test5.csv')"
   ]
  },
  {
   "cell_type": "code",
   "execution_count": null,
   "metadata": {
    "colab": {
     "base_uri": "https://localhost:8080/",
     "height": 204
    },
    "colab_type": "code",
    "id": "YoEMIa-qlDLM",
    "outputId": "90dd2352-caf9-4b3b-ce98-d96ea93ea39f"
   },
   "outputs": [],
   "source": [
    "#read index\n",
    "val_id = pd.read_csv('test2.csv', index_col = None, header=None)\n",
    "val_id.columns = ['id', 'path']\n",
    "val_id.head()"
   ]
  },
  {
   "cell_type": "code",
   "execution_count": null,
   "metadata": {
    "colab": {},
    "colab_type": "code",
    "id": "Typ8kt1blXx4"
   },
   "outputs": [],
   "source": [
    "#move files\n",
    "for path in val_id['path']:\n",
    "    shutil.move(path, path.replace('IDRND_FASDB_train','IDRND_FASDB_val'))"
   ]
  },
  {
   "cell_type": "code",
   "execution_count": null,
   "metadata": {
    "colab": {},
    "colab_type": "code",
    "id": "iwAS_1dymbpL"
   },
   "outputs": [],
   "source": [
    "train_real_filelist = glob.glob(os.path.join(path_train, 'real/*.png'))\n",
    "train_spoof_filelist = glob.glob(os.path.join(path_train, 'spoof/*.png'))\n",
    "train_filelist = train_real_filelist + train_spoof_filelist\n",
    "train_labels = [0] * len(train_real_filelist) + [1] * len(train_spoof_filelist)\n",
    "train = pd.DataFrame()\n",
    "train['path'] = train_filelist\n",
    "train['label'] = train_labels\n",
    "\n",
    "val_real_filelist = glob.glob(os.path.join(path_val, 'real/*.png'))\n",
    "val_spoof_filelist = glob.glob(os.path.join(path_val, 'spoof/*.png'))\n",
    "val_filelist = val_real_filelist + val_spoof_filelist\n",
    "val_labels = [0] * len(val_real_filelist) + [1] * len(val_spoof_filelist)\n",
    "val = pd.DataFrame()\n",
    "val['path'] = val_filelist\n",
    "val['label'] = val_labels"
   ]
  },
  {
   "cell_type": "code",
   "execution_count": null,
   "metadata": {
    "colab": {
     "base_uri": "https://localhost:8080/",
     "height": 51
    },
    "colab_type": "code",
    "id": "76ulPyN3xcep",
    "outputId": "00fe7fde-bee7-4ca1-9bee-a1789d29859f"
   },
   "outputs": [],
   "source": [
    "from keras.preprocessing.image import ImageDataGenerator\n",
    "\n",
    "train_gen = ImageDataGenerator(\n",
    "        rescale=1./255,\n",
    "        shear_range=0.2,\n",
    "        zoom_range=0.2,\n",
    "        horizontal_flip=True,\n",
    "        vertical_flip=True,\n",
    "        fill_mode = 'reflect')\n",
    "\n",
    "test_datagen = ImageDataGenerator(rescale=1./255, fill_mode = 'nearest')\n",
    "\n",
    "train_gen = train_gen.flow_from_directory(\n",
    "        path_train,\n",
    "        target_size=(img_rows, img_rows),\n",
    "        batch_size=BATCH_SIZE,\n",
    "        class_mode='binary')\n",
    "\n",
    "val_gen = test_datagen.flow_from_directory(\n",
    "        path_val,\n",
    "        target_size=(img_rows, img_rows),\n",
    "        batch_size=BATCH_SIZE,\n",
    "        class_mode='binary')"
   ]
  },
  {
   "cell_type": "markdown",
   "metadata": {
    "colab_type": "text",
    "id": "oqaXvRytxoLK"
   },
   "source": [
    "# Build Model"
   ]
  },
  {
   "cell_type": "code",
   "execution_count": null,
   "metadata": {
    "colab": {},
    "colab_type": "code",
    "id": "4Xe27bEeALCn"
   },
   "outputs": [],
   "source": [
    "K.clear_session()"
   ]
  },
  {
   "cell_type": "code",
   "execution_count": null,
   "metadata": {
    "colab": {
     "base_uri": "https://localhost:8080/",
     "height": 68
    },
    "colab_type": "code",
    "id": "IyhHLGfdxoLK",
    "outputId": "a63ca998-736a-468a-8ac0-6945828cb63c"
   },
   "outputs": [],
   "source": [
    "from keras.applications import DenseNet201\n",
    "model = DenseNet201(weights = \"imagenet\", include_top=False, input_shape = (img_rows, img_cols, 3))\n",
    "\n",
    "from keras.layers import Flatten, Dense, Dropout, BatchNormalization\n",
    "from keras.regularizers import l2\n",
    "#Adding custom Layers \n",
    "x = model.output\n",
    "x = Flatten()(x)\n",
    "x = Dense(2048, activation=\"elu\", kernel_regularizer=l2(0.0001), bias_regularizer=l2(0.0001))(x)\n",
    "x = BatchNormalization()(x)\n",
    "# x = Dropout(0.5)(x)\n",
    "x = Dense(1024, activation=\"elu\", kernel_regularizer=l2(0.0001), bias_regularizer=l2(0.0001))(x)\n",
    "x = BatchNormalization()(x)\n",
    "# x = Dropout(0.5)(x)\n",
    "predictions = Dense(1, activation=\"sigmoid\", kernel_regularizer=l2(0.0001), bias_regularizer=l2(0.0001))(x)\n",
    "\n",
    "from keras.models import Model\n",
    "# creating the final model \n",
    "model_final = Model(input = model.input, output = predictions)"
   ]
  },
  {
   "cell_type": "code",
   "execution_count": null,
   "metadata": {
    "colab": {},
    "colab_type": "code",
    "id": "EdwDsbCt0w9k"
   },
   "outputs": [],
   "source": [
    "from keras.optimizers import Adam\n",
    "from sklearn.metrics import roc_curve, auc, roc_auc_score\n",
    "from keras.models import Model\n",
    "\n",
    "from keras import backend as K\n",
    "import tensorflow as tf\n",
    "def auc(y_true, y_pred):\n",
    "    auc = tf.metrics.auc(y_true, y_pred)[1]\n",
    "    K.get_session().run(tf.local_variables_initializer())\n",
    "    return auc\n",
    "  \n",
    "def f1(y_true, y_pred):\n",
    "    def recall(y_true, y_pred):\n",
    "        \"\"\"Recall metric.\n",
    "\n",
    "        Only computes a batch-wise average of recall.\n",
    "\n",
    "        Computes the recall, a metric for multi-label classification of\n",
    "        how many relevant items are selected.\n",
    "        \"\"\"\n",
    "        true_positives = K.sum(K.round(K.clip(y_true * y_pred, 0, 1)))\n",
    "        possible_positives = K.sum(K.round(K.clip(y_true, 0, 1)))\n",
    "        recall = true_positives / (possible_positives + K.epsilon())\n",
    "        return recall\n",
    "\n",
    "    def precision(y_true, y_pred):\n",
    "        \"\"\"Precision metric.\n",
    "\n",
    "        Only computes a batch-wise average of precision.\n",
    "\n",
    "        Computes the precision, a metric for multi-label classification of\n",
    "        how many selected items are relevant.\n",
    "        \"\"\"\n",
    "        true_positives = K.sum(K.round(K.clip(y_true * y_pred, 0, 1)))\n",
    "        predicted_positives = K.sum(K.round(K.clip(y_pred, 0, 1)))\n",
    "        precision = true_positives / (predicted_positives + K.epsilon())\n",
    "        return precision\n",
    "    precision = precision(y_true, y_pred)\n",
    "    recall = recall(y_true, y_pred)\n",
    "    return 2*((precision*recall)/(precision+recall+K.epsilon()))\n",
    "\n",
    "# compile the model \n",
    "model_final.compile(loss = \"binary_crossentropy\", optimizer = Adam(lr=0.0001, decay=0.0001), metrics=['accuracy',auc,f1])"
   ]
  },
  {
   "cell_type": "code",
   "execution_count": null,
   "metadata": {
    "colab": {},
    "colab_type": "code",
    "id": "7n2nmazMxoLV"
   },
   "outputs": [],
   "source": [
    "from keras.callbacks import ModelCheckpoint, ReduceLROnPlateau, LearningRateScheduler\n",
    "from google.colab import files\n",
    "\n",
    "weight_path='DensNet201_part2.h5'\n",
    "\n",
    "checkpoint = ModelCheckpoint(weight_path, monitor='val_auc', verbose=1, \n",
    "                             save_best_only=True, mode='max', save_weights_only=False)\n",
    "\n",
    "reduceLROnPlat = ReduceLROnPlateau(monitor='f1', factor=0.1, patience=3, \n",
    "                                   verbose=1, mode='max', min_lr=0.0000001)\n",
    "\n",
    "def exp_decay(epoch):\n",
    "    initial_lrate = 0.0001\n",
    "    k = 0.1\n",
    "    lrate = initial_lrate * np.exp(-k*epoch)\n",
    "    return lrate\n",
    "lrate = LearningRateScheduler(exp_decay)\n",
    "  \n",
    "callbacks_list = [checkpoint, lrate]"
   ]
  },
  {
   "cell_type": "code",
   "execution_count": null,
   "metadata": {
    "colab": {
     "base_uri": "https://localhost:8080/",
     "height": 364
    },
    "colab_type": "code",
    "id": "fzgk14Mhr9ul",
    "outputId": "74da802b-0cd6-42bb-967e-ccba07e03f06"
   },
   "outputs": [],
   "source": [
    "lr = [exp_decay(i) for i in range(30)]\n",
    "plt.plot(lr)"
   ]
  },
  {
   "cell_type": "code",
   "execution_count": null,
   "metadata": {
    "colab": {
     "base_uri": "https://localhost:8080/",
     "height": 2414
    },
    "colab_type": "code",
    "id": "2qJ9mYrzxoLY",
    "outputId": "b81bb9ce-6092-4649-ec37-3aa711960649"
   },
   "outputs": [],
   "source": [
    "loss_history = [model_final.fit_generator(train_gen, \n",
    "                             steps_per_epoch = 7400/BATCH_SIZE, \n",
    "                             epochs = 50,\n",
    "                             validation_data = val_gen,\n",
    "                             validation_steps = 1800/BATCH_SIZE,\n",
    "                             callbacks = callbacks_list)]"
   ]
  },
  {
   "cell_type": "code",
   "execution_count": null,
   "metadata": {
    "colab": {
     "base_uri": "https://localhost:8080/",
     "height": 197
    },
    "colab_type": "code",
    "id": "cxkk9EHxxoLc",
    "outputId": "e5b6b33f-2977-4099-fc85-12e31ce68db9"
   },
   "outputs": [],
   "source": [
    "def show_loss(loss_history):\n",
    "    epich = np.cumsum(np.concatenate(\n",
    "        [np.linspace(0.5, 1, len(mh.epoch)) for mh in loss_history]))\n",
    "    fig, (ax1, ax2, ax3, ax4) = plt.subplots(1,4, figsize=(22, 10))\n",
    "    _ = ax1.plot(epich,\n",
    "                 np.concatenate([mh.history['loss'] for mh in loss_history]),\n",
    "                 'b-',\n",
    "                 epich, np.concatenate(\n",
    "            [mh.history['val_loss'] for mh in loss_history]), 'r-')\n",
    "    ax1.legend(['Training', 'Validation'])\n",
    "    ax1.set_title('Loss')\n",
    "\n",
    "    _ = ax2.plot(epich, np.concatenate(\n",
    "        [mh.history['acc'] for mh in loss_history]), 'b-',\n",
    "                     epich, np.concatenate(\n",
    "            [mh.history['val_acc'] for mh in loss_history]),\n",
    "                     'r-')\n",
    "    ax2.legend(['Training', 'Validation'])\n",
    "    ax2.set_title('accuracy')\n",
    "    \n",
    "    _ = ax3.plot(epich, np.concatenate(\n",
    "        [mh.history['auc'] for mh in loss_history]), 'b-',\n",
    "                     epich, np.concatenate(\n",
    "            [mh.history['val_auc'] for mh in loss_history]),\n",
    "                     'r-')\n",
    "    ax3.legend(['Training', 'Validation'])\n",
    "    ax3.set_title('auc')\n",
    "\n",
    "    _ = ax4.plot(epich, np.concatenate(\n",
    "        [mh.history['f1'] for mh in loss_history]), 'b-',\n",
    "                     epich, np.concatenate(\n",
    "            [mh.history['val_f1'] for mh in loss_history]),\n",
    "                     'r-')\n",
    "    ax4.legend(['Training', 'Validation'])\n",
    "    ax4.set_title('f1')\n",
    "    \n",
    "show_loss(loss_history)"
   ]
  },
  {
   "cell_type": "markdown",
   "metadata": {
    "colab_type": "text",
    "id": "wyZ650Xzoi77"
   },
   "source": [
    "# TEST"
   ]
  },
  {
   "cell_type": "code",
   "execution_count": null,
   "metadata": {
    "colab": {
     "base_uri": "https://localhost:8080/",
     "height": 34
    },
    "colab_type": "code",
    "id": "3F7AgIFR1UaF",
    "outputId": "2f16d45a-ea78-4a6a-f7c4-7bc23405b468"
   },
   "outputs": [],
   "source": [
    "from keras.models import load_model\n",
    "model_final = load_model('DensNet201_part2.h5', custom_objects={'auc':auc, 'f1':f1})"
   ]
  },
  {
   "cell_type": "code",
   "execution_count": null,
   "metadata": {
    "colab": {
     "base_uri": "https://localhost:8080/",
     "height": 34
    },
    "colab_type": "code",
    "id": "R_btjW5ZEXXA",
    "outputId": "cb081b16-0184-48ed-a859-0e276dc5e466"
   },
   "outputs": [],
   "source": [
    "!pip install tqdm"
   ]
  },
  {
   "cell_type": "code",
   "execution_count": null,
   "metadata": {
    "colab": {
     "base_uri": "https://localhost:8080/",
     "height": 68
    },
    "colab_type": "code",
    "id": "HpDYEXSjxoLi",
    "outputId": "41d0d068-f1c8-43d2-b1a0-4006d6e1dd09"
   },
   "outputs": [],
   "source": [
    "from tqdm import tqdm\n",
    "pred1 = []\n",
    "pred2 = []\n",
    "pred3 = []\n",
    "pred4 = []\n",
    "for img in tqdm(test_filelist):\n",
    "    image1 = imread(img)\n",
    "    image2 = np.fliplr(image1)\n",
    "    image3 = np.flipud(image1)\n",
    "    image4 = np.flipud(image2)\n",
    "\n",
    "    image1 = resize(image1, (img_rows, img_cols, 3))\n",
    "    image2 = resize(image2, (img_rows, img_cols, 3))\n",
    "    image3 = resize(image3, (img_rows, img_cols, 3))\n",
    "    image4 = resize(image4, (img_rows, img_cols, 3))\n",
    "\n",
    "    pred1.append(model_final.predict(image1.reshape((1,image1.shape[0],image1.shape[1],image1.shape[2])))[0][0])\n",
    "    pred2.append(model_final.predict(image2.reshape((1,image2.shape[0],image2.shape[1],image2.shape[2])))[0][0])\n",
    "    pred3.append(model_final.predict(image3.reshape((1,image3.shape[0],image3.shape[1],image3.shape[2])))[0][0])\n",
    "    pred4.append(model_final.predict(image4.reshape((1,image4.shape[0],image4.shape[1],image4.shape[2])))[0][0])"
   ]
  },
  {
   "cell_type": "code",
   "execution_count": null,
   "metadata": {
    "colab": {},
    "colab_type": "code",
    "id": "kKL-MAXp7cnb"
   },
   "outputs": [],
   "source": [
    "test.drop(columns=[0,2], inplace=True)"
   ]
  },
  {
   "cell_type": "code",
   "execution_count": null,
   "metadata": {
    "colab": {},
    "colab_type": "code",
    "id": "fFGoSUBdxoLl"
   },
   "outputs": [],
   "source": [
    "test['path'] = [*map(lambda x: x.split('/')[2], test_filelist)]\n",
    "test['pred'] = pred1\n",
    "test.columns = [0,2]\n",
    "\n",
    "test.to_csv('predict1.csv', index=False)\n",
    "\n",
    "test[2] = pred2\n",
    "test.to_csv('predict2.csv', index=False)\n",
    "\n",
    "test[2] = pred3\n",
    "test.to_csv('predict3.csv', index=False)\n",
    "\n",
    "test[2] = pred4\n",
    "test.to_csv('predict4.csv', index=False)"
   ]
  },
  {
   "cell_type": "code",
   "execution_count": null,
   "metadata": {
    "colab": {},
    "colab_type": "code",
    "id": "XbW7NI6iZR9Z"
   },
   "outputs": [],
   "source": [
    "from __future__ import division\n",
    "from collections import defaultdict\n",
    "from glob import glob\n",
    "import sys\n",
    "\n",
    "\n",
    "def kaggle_bag(glob_files, loc_outfile):\n",
    "    with open(loc_outfile,\"w\") as outfile:\n",
    "    all_ranks = defaultdict(list)\n",
    "    for i, glob_file in enumerate( glob(glob_files) ):\n",
    "        file_ranks = []\n",
    "        print(\"parsing: {}\".format(glob_file))\n",
    "        # sort glob_file by first column, ignoring the first line\n",
    "        lines = open(glob_file).readlines()\n",
    "        lines = [lines[0]] + sorted(lines[1:])\n",
    "        for e, line in enumerate( lines ):\n",
    "            if e == 0 and i == 0:\n",
    "                outfile.write( line )\n",
    "            elif e > 0:\n",
    "                r = line.strip().split(\",\")\n",
    "                file_ranks.append( (float(r[1]), e, r[0]) )\n",
    "        for rank, item in enumerate( sorted(file_ranks) ):\n",
    "            all_ranks[(item[1],item[2])].append(rank)\n",
    "    average_ranks = []\n",
    "    for k in sorted(all_ranks):\n",
    "        average_ranks.append((sum(all_ranks[k])/len(all_ranks[k]),k))\n",
    "    ranked_ranks = []\n",
    "    for rank, k in enumerate(sorted(average_ranks)):\n",
    "        ranked_ranks.append((k[1][0],k[1][1],rank/(len(average_ranks)-1)))\n",
    "    for k in sorted(ranked_ranks):\n",
    "        outfile.write(\"%s,%s\\n\"%(k[1],k[2]))\n",
    "    print(\"wrote to {}\".format(loc_outfile))\n"
   ]
  },
  {
   "cell_type": "code",
   "execution_count": null,
   "metadata": {
    "colab": {
     "base_uri": "https://localhost:8080/",
     "height": 102
    },
    "colab_type": "code",
    "id": "cx1DbBOOZrKw",
    "outputId": "6e0b9410-7d05-4dac-f4af-ea6e7c1e649a"
   },
   "outputs": [],
   "source": [
    "kaggle_bag(\"predict*.csv\", 'submission2tta.csv')"
   ]
  }
 ],
 "metadata": {
  "accelerator": "GPU",
  "colab": {
   "collapsed_sections": [
    "oqaXvRytxoLK"
   ],
   "name": "Densnet201_cv_part2_tta.ipynb",
   "provenance": [],
   "version": "0.3.2"
  },
  "kernelspec": {
   "display_name": "Python 3",
   "language": "python",
   "name": "python3"
  },
  "language_info": {
   "codemirror_mode": {
    "name": "ipython",
    "version": 3
   },
   "file_extension": ".py",
   "mimetype": "text/x-python",
   "name": "python",
   "nbconvert_exporter": "python",
   "pygments_lexer": "ipython3",
   "version": "3.5.2"
  }
 },
 "nbformat": 4,
 "nbformat_minor": 1
}
